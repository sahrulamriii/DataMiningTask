{
  "nbformat": 4,
  "nbformat_minor": 0,
  "metadata": {
    "colab": {
      "provenance": []
    },
    "kernelspec": {
      "name": "python3",
      "display_name": "Python 3"
    },
    "language_info": {
      "name": "python"
    }
  },
  "cells": [
    {
      "cell_type": "code",
      "execution_count": 1,
      "metadata": {
        "colab": {
          "base_uri": "https://localhost:8080/"
        },
        "id": "-FmvphMAFbK2",
        "outputId": "f4bd073b-f74c-4f9d-cf80-ca9868cc4755"
      },
      "outputs": [
        {
          "output_type": "stream",
          "name": "stdout",
          "text": [
            "[[1.00e+00 8.50e+01 6.60e+01 ... 2.66e+01 3.51e-01 3.10e+01]\n",
            " [8.00e+00 1.83e+02 6.40e+01 ... 2.33e+01 6.72e-01 3.20e+01]\n",
            " [1.00e+00 8.90e+01 6.60e+01 ... 2.81e+01 1.67e-01 2.10e+01]\n",
            " ...\n",
            " [5.00e+00 1.21e+02 7.20e+01 ... 2.62e+01 2.45e-01 3.00e+01]\n",
            " [1.00e+00 1.26e+02 6.00e+01 ... 3.01e+01 3.49e-01 4.70e+01]\n",
            " [1.00e+00 9.30e+01 7.00e+01 ... 3.04e+01 3.15e-01 2.30e+01]]\n",
            "[[1.00e+00 8.50e+01 6.60e+01 ... 2.66e+01 3.51e-01 3.10e+01]\n",
            " [8.00e+00 1.83e+02 6.40e+01 ... 2.33e+01 6.72e-01 3.20e+01]\n",
            " [1.00e+00 8.90e+01 6.60e+01 ... 2.81e+01 1.67e-01 2.10e+01]\n",
            " ...\n",
            " [5.00e+00 1.21e+02 7.20e+01 ... 2.62e+01 2.45e-01 3.00e+01]\n",
            " [1.00e+00 1.26e+02 6.00e+01 ... 3.01e+01 3.49e-01 4.70e+01]\n",
            " [1.00e+00 9.30e+01 7.00e+01 ... 3.04e+01 3.15e-01 2.30e+01]]\n"
          ]
        }
      ],
      "source": [
        "# Importing the necessary libraries\n",
        "import numpy as np\n",
        "import matplotlib.pyplot as pyplot\n",
        "import pandas as pd\n",
        "from sklearn.impute import SimpleImputer\n",
        "# Load the dataset\n",
        "dataset = pd.read_csv('pima-indians-diabetes.csv')\n",
        "X = dataset.iloc[:, :-1].values\n",
        "y = dataset.iloc[:, -1].values\n",
        "print(X)\n",
        "# Identify missing data (assumes that missing data is represented as NaN)\n",
        "imputer = SimpleImputer(missing_values=np.nan, strategy='mean')\n",
        "# Print the number of missing entries in each column\n",
        "\n",
        "# Configure an instance of the SimpleImputer class\n",
        "imputer.fit(X[:, 1:9])\n",
        "# Fit the imputer on the DataFrame\n",
        "X[:, 1:9] = imputer.transform(X[:, 1:9])\n",
        "# Apply the transform to the DataFrame\n",
        "\n",
        "#Print your updated matrix of features\n",
        "print(X)"
      ]
    }
  ]
}